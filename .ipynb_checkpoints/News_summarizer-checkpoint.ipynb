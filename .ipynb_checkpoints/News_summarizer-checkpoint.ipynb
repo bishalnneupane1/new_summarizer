{
 "cells": [
  {
   "cell_type": "code",
   "execution_count": 3,
   "id": "5f17f4ea",
   "metadata": {},
   "outputs": [],
   "source": [
    "from bs4 import BeautifulSoup\n",
    "from requests import get"
   ]
  },
  {
   "cell_type": "markdown",
   "id": "e95c6954",
   "metadata": {},
   "source": [
    "Creating a Function to Extract Text from paragraph Tags"
   ]
  },
  {
   "cell_type": "code",
   "execution_count": 4,
   "id": "57223d50",
   "metadata": {},
   "outputs": [
    {
     "ename": "SyntaxError",
     "evalue": "invalid syntax (839900435.py, line 8)",
     "output_type": "error",
     "traceback": [
      "\u001b[1;36m  Input \u001b[1;32mIn [4]\u001b[1;36m\u001b[0m\n\u001b[1;33m    soup = BeautifulSoup(page.content. \"lxml\")\u001b[0m\n\u001b[1;37m                                       ^\u001b[0m\n\u001b[1;31mSyntaxError\u001b[0m\u001b[1;31m:\u001b[0m invalid syntax\n"
     ]
    }
   ],
   "source": [
    "def get_only_text(url):\n",
    " \"\"\" \n",
    "  return the title and the text of the article\n",
    "  at the specified url\n",
    " \"\"\"\n",
    " page = get(url)\n",
    " soup = BeautifulSoup(page.content, \"lxml\")\n",
    " text = ' '.join(map(lambda p: p.text, soup.find_all('p')))\n",
    " #text = soup.text\n",
    " title = ' '.join(soup.title.stripped_strings)\n",
    " return title , text "
   ]
  },
  {
   "cell_type": "markdown",
   "id": "69e270d6",
   "metadata": {},
   "source": [
    "Calling the function with the desired News Url"
   ]
  },
  {
   "cell_type": "code",
   "execution_count": null,
   "id": "f378ff56",
   "metadata": {},
   "outputs": [],
   "source": [
    "url = \"https://en.wikinews.org/wiki/Global_markets_plunge\""
   ]
  },
  {
   "cell_type": "code",
   "execution_count": null,
   "id": "24089543",
   "metadata": {},
   "outputs": [],
   "source": [
    "text = get_only_text(url)"
   ]
  },
  {
   "cell_type": "code",
   "execution_count": null,
   "id": "43454ba0",
   "metadata": {},
   "outputs": [],
   "source": [
    "len(text[1])"
   ]
  },
  {
   "cell_type": "code",
   "execution_count": null,
   "id": "fe628277",
   "metadata": {},
   "outputs": [],
   "source": [
    "text[1]"
   ]
  },
  {
   "cell_type": "code",
   "execution_count": null,
   "id": "23b5c09c",
   "metadata": {},
   "outputs": [],
   "source": []
  },
  {
   "cell_type": "code",
   "execution_count": null,
   "id": "f2e238b3",
   "metadata": {},
   "outputs": [],
   "source": []
  },
  {
   "cell_type": "code",
   "execution_count": null,
   "id": "8c371593",
   "metadata": {},
   "outputs": [],
   "source": []
  }
 ],
 "metadata": {
  "kernelspec": {
   "display_name": "Python 3 (ipykernel)",
   "language": "python",
   "name": "python3"
  },
  "language_info": {
   "codemirror_mode": {
    "name": "ipython",
    "version": 3
   },
   "file_extension": ".py",
   "mimetype": "text/x-python",
   "name": "python",
   "nbconvert_exporter": "python",
   "pygments_lexer": "ipython3",
   "version": "3.9.7"
  }
 },
 "nbformat": 4,
 "nbformat_minor": 5
}

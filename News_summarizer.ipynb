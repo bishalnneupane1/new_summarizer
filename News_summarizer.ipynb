{
 "cells": [
  {
   "cell_type": "code",
   "execution_count": 36,
   "id": "797880c2",
   "metadata": {},
   "outputs": [],
   "source": [
    "from bs4 import BeautifulSoup\n",
    "from requests import get"
   ]
  },
  {
   "cell_type": "markdown",
   "id": "533142ab",
   "metadata": {},
   "source": [
    "Creating a Function to Extract Text from paragraph Tags"
   ]
  },
  {
   "cell_type": "code",
   "execution_count": 37,
   "id": "315ccad6",
   "metadata": {},
   "outputs": [],
   "source": [
    "def get_only_text(url):\n",
    " \"\"\" \n",
    "  return the title and the text of the article\n",
    "  at the specified url\n",
    " \"\"\"\n",
    " page = get(url)\n",
    " soup = BeautifulSoup(page.content, \"lxml\")\n",
    " text = ' '.join(map(lambda p: p.text, soup.find_all('p')))\n",
    " #text = soup.text\n",
    " title = ' '.join(soup.title.stripped_strings)\n",
    " return title , text "
   ]
  },
  {
   "cell_type": "markdown",
   "id": "8df8c626",
   "metadata": {},
   "source": [
    "Calling the function with the desired News Url"
   ]
  },
  {
   "cell_type": "code",
   "execution_count": 38,
   "id": "40edee60",
   "metadata": {},
   "outputs": [],
   "source": [
    "url = \"https://kathmandupost.com/politics/2022/03/30/congress-comes-up-with-formal-decision-on-poll-alliance\""
   ]
  },
  {
   "cell_type": "code",
   "execution_count": 39,
   "id": "2a188e22",
   "metadata": {},
   "outputs": [],
   "source": [
    "text = get_only_text(url)"
   ]
  },
  {
   "cell_type": "code",
   "execution_count": 40,
   "id": "0236d75e",
   "metadata": {},
   "outputs": [
    {
     "data": {
      "text/plain": [
       "9372"
      ]
     },
     "execution_count": 40,
     "metadata": {},
     "output_type": "execute_result"
    }
   ],
   "source": [
    "len(text[1])"
   ]
  },
  {
   "cell_type": "code",
   "execution_count": 41,
   "id": "40ab5b72",
   "metadata": {},
   "outputs": [
    {
     "data": {
      "text/plain": [
       "\"The ruling Nepali Congress has decided to forge an electoral alliance for the May 13 local elections with its coalition partners based on “situation and necessity” at individual local units. The party came up with its official decision on Tuesday after discussing the issue for several days. While party president Sher Bahadur Deuba was pushing for an electoral alliance among coalition partners—CPN (Maoist Center), CPN (Unified Socialist) and Janata Samajbadi Party—a section in the party including senior leader Shekhar Koirala and General Secretary Gagan Thapa were for contesting the polls independently.  Deuba’s insistence that the current alliance must continue stems from fears that the Maoist Centre could collaborate with the CPN-UML in the upcoming elections.  Despite opposition from some senior Congress leaders, the party on Tuesday decided to contest the polls as an alliance.  The party has decided to forge “need-based” alliances with the ruling partners, according to party spokesperson Prakash Sharan Mahat. He said Tuesday’s was just a policy decision and the party's local committees as per their need will make decisions on whether to partner with other parties.  “As the basis for Nepali Congress’s victory has already been created in a majority of local units, to further strengthen the position the party has taken a policy decision that it could forge alliances with other coalition partners on the basis of the situation and necessity at the local level,” Mahat said after the meeting.  “Separate mechanisms will be formed at the local level, districts, electoral constituencies and provinces to finalise possible alliances with the parties as per their strength at the local units concerned.”  According to ruling party leaders, following the decision of the Nepali Congress, there will soon be meetings of the coalition partners in order to form cross-party committees at the provincial, district and local levels. And the dedicated mechanism will work out the nitty-gritty of the alliance for local elections. Already a dozen district committees of the Nepali Congress, the Maoist Centre and the CPN (Unified Centre) have decided to forge alliances for the local elections, the ruling party leaders said. Deuba and those in the Congress supporting an electoral alliance with the ruling partners believe such a move would help defeat the UML. Other members of the coalition have welcomed the Congress’ decision. Although Congress chief Deuba was keen on forging an electoral alliance, the faction led by senior leader Koirala was dead against the idea, arguing that since the communists never vote for the Congress, the party should contest the elections single-handedly. Party vice-president Dhan Raj Gurung and General Secretary Gagan Thapa were also against electoral alliances while Deuba, senior leader Ram Chandra Poudel, another Vice-president Purna Bahadur Khadka, another General Secretary Bishwa Prakash Sharma and majority of Central Working Committee members stood in favour of partnering with other ruling parties in the elections, Congress leaders said. Deuba commands over 80 percent majority in the Central Working Committee, the strength that made the party take the decision in favour of alliances. To cut the UML, which has a strong presence in local governments, “down to size”, senior leader Poudel had told the meeting that Congress supporters should be ready to vote for the Maoist Centre and the Unified Socialist and keep the coalition intact. The UML won 45.21 percent seats in the 2017 elections and secured 36.82 percent of the total valid votes.  For the past several weeks, other members of the ruling coalition—Communist Party of Nepal (Maoist Centre), CPN (Unified Socialist) and Janata Samajbadi Party—had been waiting for an official decision by the Congress. The party has decided to finalise alliances at the local level through various committees to be formed at local units, districts and provinces, states the decision of the party’s central committee. Party Vice-president Khadka will lead the election campaign across the country. “There are a number of reasons for the Congress’ decision to go for electoral partnership,” a Central Working Committee member said. “It was necessary for Deuba to reward the coalition partners for their support to pass the MCC Nepal compact through Parliament despite strong opposition to the compact within the partners.” “Their support for the compact has made it easier for the Congress to defend the compact among voters in the elections,” the leader said. “We know the UML is a formidable opponent in the local elections as the party has a strong presence in local governments. Even the Maoist Centre and the CPN (Unified Socialist) combined may not be able to defeat the UML, so alliance among the coalition partners is the best option available.” And the third reason is there was a possibility of the Maoist Centre joining hands with the UML, the member said.  While speaking at the central committee meeting on Monday, Home Minister Balkrishna Khand claimed that he had “credible” information that some “international powers” were trying to bring the UML and Maoist Centre together.  Khand shared his observation that if the UML and the Maoist Centre joined forces, once again after falling apart since their alliance ahead of the 2017 elections and ultimate party merger, then the communists would make a clean sweep. So the electoral alliance among coalition partners is extremely necessary, Khand reportedly told the meeting. “Our strategy is clear. We will contest independently in constituencies where our victory is certain and partner with other parties where our strength is relatively marginal,” an office bearer of the Nepali Congress said. The Congress will forge alliances in the local constituencies currently held by the UML because our sole goal is to defeat the KP Sharma Oli-led party, he said.  Unified Socialist General Secretary Beduram Bhusal said the decision was expected and his party welcomes it. “Now we will work out the details of the alliance for the local polls.” Bhusal said the decision has also paved the way for electoral alliances for the provincial and federal elections. “A policy-level guidance will be issued by the centre. Accordingly, the local committees will constitute cross-party mechanisms on how to forge alliances or divide seats among the coalition parties,” said Bhusal. According to Nepali Congress spokesperson Mahat, the party’s leadership will help the cross-party mechanisms by providing necessary support and guidance.  The party has decided to form a central deployment committee headed by party vice-president Purna Bahadur Khadka to work out electoral alliances at the local level.  Some party leaders said the Khadka-led central mobilisation committee was formed to ensure that alliances are forged as dictated by the party's top leadership. “It’s quite clear that the Khadka-led mechanism was created just to impose the party headquarter’s decision on the local committees,” said a Congres Central Working Committee member, asking not to be named fearing retribution.  However, the Central Working Committee meeting that started on Friday concluded on Tuesday without forming parliamentary committees although the issue was on the meeting’s agenda.  “Since the prime minister is busy with his scheduled India visit, the two agenda items—forming a central parliamentary committee and a disciplinary committee—will be discussed after his visit,” Mahat told reporters after the meeting at the party’s central office, Sanepa. As per the party statute the Congress can form a parliamentary committee of up to 25 members. The dissident Koirala faction of the party has been holding separate gatherings and meetings and has decided to protest against the “unilateral decisions” of the party president and Prime Minister Deuba to appoint office bearers on the party’s student and youth wings.  On March 23, Deuba appointed Dujang Sherpa as president of the ad hoc central committee of its students wing Nepal Students Union and Bidwan Gurung as president of Nepal Tarun Dal–the youth wing of the party.  There are strong voices within the Nepali Congress that electoral partnership with communist forces could ultimately hit the Congress voter base in the long run.  Koirala has been demanding that the party leadership should first work to shore up intra-party unity before focusing on electoral alliance with other parties.  According to leaders, Congress local committees unwilling to enter alliance with other parties can do so.  “We have also ensured that the party headquarters won’t pressure the local committees for electoral alliance,” Sharma, party’s general secretary, said. Coalition partners have said they will now expedite discussions to work out the details on sharing local units seats. Maoist leader Dev Gurung and Janata Samajbadi Party chair Upendra Yadav said the coalition leaders will be meeting soon. “We can strengthen democracy only if we can make the coalition stronger,” Yadav told the Post, welcoming the Congress’ decision. (Anil Giri contributed reporting.) Tika R Pradhan is a senior political correspondent for the Post, covering politics, parliament, judiciary and social affairs. Pradhan joined the Post in 2016 after working at The Himalayan Times for more than a decade.\""
      ]
     },
     "execution_count": 41,
     "metadata": {},
     "output_type": "execute_result"
    }
   ],
   "source": [
    "text[1]"
   ]
  },
  {
   "cell_type": "markdown",
   "id": "aafe9175",
   "metadata": {},
   "source": [
    "Numbers of Words- Original Text"
   ]
  },
  {
   "cell_type": "code",
   "execution_count": 42,
   "id": "74f0037e",
   "metadata": {},
   "outputs": [
    {
     "data": {
      "text/plain": [
       "'Congress comes up with formal decision on poll alliance'"
      ]
     },
     "execution_count": 42,
     "metadata": {},
     "output_type": "execute_result"
    }
   ],
   "source": [
    "text[0]"
   ]
  },
  {
   "cell_type": "code",
   "execution_count": 43,
   "id": "29b4e69c",
   "metadata": {},
   "outputs": [
    {
     "data": {
      "text/plain": [
       "1455"
      ]
     },
     "execution_count": 43,
     "metadata": {},
     "output_type": "execute_result"
    }
   ],
   "source": [
    "len(str.split(text[1]))"
   ]
  },
  {
   "cell_type": "markdown",
   "id": "402813a9",
   "metadata": {},
   "source": [
    "# Summarization"
   ]
  },
  {
   "cell_type": "code",
   "execution_count": 44,
   "id": "3ac50423",
   "metadata": {},
   "outputs": [],
   "source": [
    "from gensim.summarization.summarizer import summarize\n",
    "from gensim.summarization import keywords"
   ]
  },
  {
   "cell_type": "code",
   "execution_count": 45,
   "id": "1de83cb2",
   "metadata": {},
   "outputs": [
    {
     "data": {
      "text/plain": [
       "\"The ruling Nepali Congress has decided to forge an electoral alliance for the May 13 local elections with its coalition partners based on “situation and necessity” at individual local units. The party came up with its official decision on Tuesday after discussing the issue for several days. While party president Sher Bahadur Deuba was pushing for an electoral alliance among coalition partners—CPN (Maoist Center), CPN (Unified Socialist) and Janata Samajbadi Party—a section in the party including senior leader Shekhar Koirala and General Secretary Gagan Thapa were for contesting the polls independently.  Deuba’s insistence that the current alliance must continue stems from fears that the Maoist Centre could collaborate with the CPN-UML in the upcoming elections.  Despite opposition from some senior Congress leaders, the party on Tuesday decided to contest the polls as an alliance.  The party has decided to forge “need-based” alliances with the ruling partners, according to party spokesperson Prakash Sharan Mahat. He said Tuesday’s was just a policy decision and the party's local committees as per their need will make decisions on whether to partner with other parties.  “As the basis for Nepali Congress’s victory has already been created in a majority of local units, to further strengthen the position the party has taken a policy decision that it could forge alliances with other coalition partners on the basis of the situation and necessity at the local level,” Mahat said after the meeting.  “Separate mechanisms will be formed at the local level, districts, electoral constituencies and provinces to finalise possible alliances with the parties as per their strength at the local units concerned.”  According to ruling party leaders, following the decision of the Nepali Congress, there will soon be meetings of the coalition partners in order to form cross-party committees at the provincial, district and local levels. And the dedicated mechanism will work out the nitty-gritty of the alliance for local elections. Already a dozen district committees of the Nepali Congress, the Maoist Centre and the CPN (Unified Centre) have decided to forge alliances for the local elections, the ruling party leaders said. Deuba and those in the Congress supporting an electoral alliance with the ruling partners believe such a move would help defeat the UML. Other members of the coalition have welcomed the Congress’ decision. Although Congress chief Deuba was keen on forging an electoral alliance, the faction led by senior leader Koirala was dead against the idea, arguing that since the communists never vote for the Congress, the party should contest the elections single-handedly. Party vice-president Dhan Raj Gurung and General Secretary Gagan Thapa were also against electoral alliances while Deuba, senior leader Ram Chandra Poudel, another Vice-president Purna Bahadur Khadka, another General Secretary Bishwa Prakash Sharma and majority of Central Working Committee members stood in favour of partnering with other ruling parties in the elections, Congress leaders said. Deuba commands over 80 percent majority in the Central Working Committee, the strength that made the party take the decision in favour of alliances. To cut the UML, which has a strong presence in local governments, “down to size”, senior leader Poudel had told the meeting that Congress supporters should be ready to vote for the Maoist Centre and the Unified Socialist and keep the coalition intact. The UML won 45.21 percent seats in the 2017 elections and secured 36.82 percent of the total valid votes.  For the past several weeks, other members of the ruling coalition—Communist Party of Nepal (Maoist Centre), CPN (Unified Socialist) and Janata Samajbadi Party—had been waiting for an official decision by the Congress. The party has decided to finalise alliances at the local level through various committees to be formed at local units, districts and provinces, states the decision of the party’s central committee. Party Vice-president Khadka will lead the election campaign across the country. “There are a number of reasons for the Congress’ decision to go for electoral partnership,” a Central Working Committee member said. “It was necessary for Deuba to reward the coalition partners for their support to pass the MCC Nepal compact through Parliament despite strong opposition to the compact within the partners.” “Their support for the compact has made it easier for the Congress to defend the compact among voters in the elections,” the leader said. “We know the UML is a formidable opponent in the local elections as the party has a strong presence in local governments. Even the Maoist Centre and the CPN (Unified Socialist) combined may not be able to defeat the UML, so alliance among the coalition partners is the best option available.” And the third reason is there was a possibility of the Maoist Centre joining hands with the UML, the member said.  While speaking at the central committee meeting on Monday, Home Minister Balkrishna Khand claimed that he had “credible” information that some “international powers” were trying to bring the UML and Maoist Centre together.  Khand shared his observation that if the UML and the Maoist Centre joined forces, once again after falling apart since their alliance ahead of the 2017 elections and ultimate party merger, then the communists would make a clean sweep. So the electoral alliance among coalition partners is extremely necessary, Khand reportedly told the meeting. “Our strategy is clear. We will contest independently in constituencies where our victory is certain and partner with other parties where our strength is relatively marginal,” an office bearer of the Nepali Congress said. The Congress will forge alliances in the local constituencies currently held by the UML because our sole goal is to defeat the KP Sharma Oli-led party, he said.  Unified Socialist General Secretary Beduram Bhusal said the decision was expected and his party welcomes it. “Now we will work out the details of the alliance for the local polls.” Bhusal said the decision has also paved the way for electoral alliances for the provincial and federal elections. “A policy-level guidance will be issued by the centre. Accordingly, the local committees will constitute cross-party mechanisms on how to forge alliances or divide seats among the coalition parties,” said Bhusal. According to Nepali Congress spokesperson Mahat, the party’s leadership will help the cross-party mechanisms by providing necessary support and guidance.  The party has decided to form a central deployment committee headed by party vice-president Purna Bahadur Khadka to work out electoral alliances at the local level.  Some party leaders said the Khadka-led central mobilisation committee was formed to ensure that alliances are forged as dictated by the party's top leadership. “It’s quite clear that the Khadka-led mechanism was created just to impose the party headquarter’s decision on the local committees,” said a Congres Central Working Committee member, asking not to be named fearing retribution.  However, the Central Working Committee meeting that started on Friday concluded on Tuesday without forming parliamentary committees although the issue was on the meeting’s agenda.  “Since the prime minister is busy with his scheduled India visit, the two agenda items—forming a central parliamentary committee and a disciplinary committee—will be discussed after his visit,” Mahat told reporters after the meeting at the party’s central office, Sanepa. As per the party statute the Congress can form a parliamentary committee of up to 25 members. The dissident Koirala faction of the party has been holding separate gatherings and meetings and has decided to protest against the “unilateral decisions” of the party president and Prime Minister Deuba to appoint office bearers on the party’s student and youth wings.  On March 23, Deuba appointed Dujang Sherpa as president of the ad hoc central committee of its students wing Nepal Students Union and Bidwan Gurung as president of Nepal Tarun Dal–the youth wing of the party.  There are strong voices within the Nepali Congress that electoral partnership with communist forces could ultimately hit the Congress voter base in the long run.  Koirala has been demanding that the party leadership should first work to shore up intra-party unity before focusing on electoral alliance with other parties.  According to leaders, Congress local committees unwilling to enter alliance with other parties can do so.  “We have also ensured that the party headquarters won’t pressure the local committees for electoral alliance,” Sharma, party’s general secretary, said. Coalition partners have said they will now expedite discussions to work out the details on sharing local units seats. Maoist leader Dev Gurung and Janata Samajbadi Party chair Upendra Yadav said the coalition leaders will be meeting soon. “We can strengthen democracy only if we can make the coalition stronger,” Yadav told the Post, welcoming the Congress’ decision. (Anil Giri contributed reporting.) Tika R Pradhan is a senior political correspondent for the Post, covering politics, parliament, judiciary and social affairs. Pradhan joined the Post in 2016 after working at The Himalayan Times for more than a decade.\""
      ]
     },
     "execution_count": 45,
     "metadata": {},
     "output_type": "execute_result"
    }
   ],
   "source": [
    "text[1]"
   ]
  },
  {
   "cell_type": "code",
   "execution_count": 46,
   "id": "c9ff71ed",
   "metadata": {},
   "outputs": [
    {
     "name": "stdout",
     "output_type": "stream",
     "text": [
      "Title : Congress comes up with formal decision on poll alliance\n",
      "Summary : \n",
      "“Separate mechanisms will be formed at the local level, districts, electoral constituencies and provinces to finalise possible alliances with the parties as per their strength at the local units concerned.”  According to ruling party leaders, following the decision of the Nepali Congress, there will soon be meetings of the coalition partners in order to form cross-party committees at the provincial, district and local levels.\n",
      "Party vice-president Dhan Raj Gurung and General Secretary Gagan Thapa were also against electoral alliances while Deuba, senior leader Ram Chandra Poudel, another Vice-president Purna Bahadur Khadka, another General Secretary Bishwa Prakash Sharma and majority of Central Working Committee members stood in favour of partnering with other ruling parties in the elections, Congress leaders said.\n"
     ]
    }
   ],
   "source": [
    "print (\"Title : \" + text[0])\n",
    "print (\"Summary : \")\n",
    "print (summarize(repr(text[1]), word_count=100))"
   ]
  },
  {
   "cell_type": "code",
   "execution_count": 47,
   "id": "82b9d0e8",
   "metadata": {},
   "outputs": [
    {
     "name": "stdout",
     "output_type": "stream",
     "text": [
      "\n",
      "\n",
      "Length of the summarized text: 119\n"
     ]
    }
   ],
   "source": [
    "print(\"\\n\\nLength of the summarized text: \" + str(len(str.split((summarize(repr(text[1]), word_count=100))))))"
   ]
  },
  {
   "cell_type": "code",
   "execution_count": 48,
   "id": "a441a811",
   "metadata": {},
   "outputs": [
    {
     "name": "stdout",
     "output_type": "stream",
     "text": [
      "Title : Congress comes up with formal decision on poll alliance\n",
      "Summary : \n",
      "While party president Sher Bahadur Deuba was pushing for an electoral alliance among coalition partners—CPN (Maoist Center), CPN (Unified Socialist) and Janata Samajbadi Party—a section in the party including senior leader Shekhar Koirala and General Secretary Gagan Thapa were for contesting the polls independently.\n",
      "“Separate mechanisms will be formed at the local level, districts, electoral constituencies and provinces to finalise possible alliances with the parties as per their strength at the local units concerned.”  According to ruling party leaders, following the decision of the Nepali Congress, there will soon be meetings of the coalition partners in order to form cross-party committees at the provincial, district and local levels.\n",
      "Already a dozen district committees of the Nepali Congress, the Maoist Centre and the CPN (Unified Centre) have decided to forge alliances for the local elections, the ruling party leaders said.\n",
      "Party vice-president Dhan Raj Gurung and General Secretary Gagan Thapa were also against electoral alliances while Deuba, senior leader Ram Chandra Poudel, another Vice-president Purna Bahadur Khadka, another General Secretary Bishwa Prakash Sharma and majority of Central Working Committee members stood in favour of partnering with other ruling parties in the elections, Congress leaders said.\n",
      "To cut the UML, which has a strong presence in local governments, “down to size”, senior leader Poudel had told the meeting that Congress supporters should be ready to vote for the Maoist Centre and the Unified Socialist and keep the coalition intact.\n"
     ]
    }
   ],
   "source": [
    "print (\"Title : \" + text[0])\n",
    "print (\"Summary : \")\n",
    "print (summarize(repr(text[1]), ratio=0.1))"
   ]
  },
  {
   "cell_type": "code",
   "execution_count": 49,
   "id": "ed9884d3",
   "metadata": {},
   "outputs": [],
   "source": [
    "summarized_text = summarize(repr(text[1]), ratio=0.1)"
   ]
  },
  {
   "cell_type": "code",
   "execution_count": 50,
   "id": "5729f353",
   "metadata": {},
   "outputs": [
    {
     "data": {
      "text/plain": [
       "237"
      ]
     },
     "execution_count": 50,
     "metadata": {},
     "output_type": "execute_result"
    }
   ],
   "source": [
    "len(str.split(summarized_text))"
   ]
  },
  {
   "cell_type": "code",
   "execution_count": 51,
   "id": "35c72ffa",
   "metadata": {},
   "outputs": [
    {
     "name": "stdout",
     "output_type": "stream",
     "text": [
      "\n",
      "Keywords:\n",
      "parties\n",
      "committee\n",
      "said\n",
      "leaders\n",
      "congress\n",
      "local\n",
      "alliances\n",
      "deuba\n",
      "central\n",
      "election\n",
      "nepal\n",
      "coalition\n",
      "district\n",
      "senior\n",
      "president\n",
      "khand\n",
      "decisions\n",
      "mahat\n",
      "maoist\n",
      "led\n",
      "cpn\n",
      "koirala\n",
      "partnering\n",
      "secretary\n"
     ]
    }
   ],
   "source": [
    "print ('\\nKeywords:')\n",
    "print (keywords(text[1], ratio=0.1, lemmatize=True))"
   ]
  },
  {
   "cell_type": "code",
   "execution_count": null,
   "id": "58d36701",
   "metadata": {},
   "outputs": [],
   "source": []
  }
 ],
 "metadata": {
  "kernelspec": {
   "display_name": "Python 3 (ipykernel)",
   "language": "python",
   "name": "python3"
  },
  "language_info": {
   "codemirror_mode": {
    "name": "ipython",
    "version": 3
   },
   "file_extension": ".py",
   "mimetype": "text/x-python",
   "name": "python",
   "nbconvert_exporter": "python",
   "pygments_lexer": "ipython3",
   "version": "3.9.7"
  }
 },
 "nbformat": 4,
 "nbformat_minor": 5
}
